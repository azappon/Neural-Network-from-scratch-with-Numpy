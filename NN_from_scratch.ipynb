{
 "cells": [
  {
   "cell_type": "markdown",
   "metadata": {},
   "source": [
    "# Imports"
   ]
  },
  {
   "cell_type": "code",
   "execution_count": 7,
   "metadata": {},
   "outputs": [],
   "source": [
    "import pandas as pd\n",
    "import numpy as np\n",
    "import matplotlib.pyplot as plt"
   ]
  },
  {
   "cell_type": "markdown",
   "metadata": {},
   "source": [
    "# Data prep"
   ]
  },
  {
   "cell_type": "code",
   "execution_count": 8,
   "metadata": {},
   "outputs": [],
   "source": [
    "# transforming data into numpy array to apply basic linear algebra operations more easily\n",
    "mnist = pd.read_csv('/Downloads/digit-recognizer/mnist_train.csv')\n",
    "mnist =  np.array(mnist)\n",
    "np.random.shuffle(mnist)\n",
    "mnist = mnist\n",
    "\n",
    "tot_images = len(mnist)\n",
    "\n",
    "# split the dataset into training and testing sets 80%/20%\n",
    "train_mnist, test_mnist = mnist[:int(tot_images*0.8)].T, mnist[int(tot_images*0.8):].T\n",
    "\n",
    "# split  data into images and lables, normalize the images (0-1, computationally faster)\n",
    "train_imgs, train_lables = train_mnist[1:] / 255, train_mnist[0]\n",
    "test_imgs, test_lables =   test_mnist[1:] / 255, test_mnist[0]\n",
    "\n",
    "n_features, n_images = train_imgs.shape\n",
    "n_classes = m = 10"
   ]
  },
  {
   "cell_type": "markdown",
   "metadata": {},
   "source": [
    "# Functions"
   ]
  },
  {
   "cell_type": "code",
   "execution_count": 9,
   "metadata": {},
   "outputs": [],
   "source": [
    "# function to initialize W1, W2 and b1, b2\n",
    "def initialize_parameters(n_classes, n_features):\n",
    "    W1 = np.random.rand(n_classes, n_features) - 0.5\n",
    "    b1 = np.zeros((n_classes, 1))\n",
    "    W2 = np.random.rand(n_classes, n_classes) - 0.5\n",
    "    b2 = np.zeros((n_classes, 1))\n",
    "    return W1, b1, W2, b2\n",
    "\n",
    "    \n",
    "# foward probability function \n",
    "def forward(X, W1, b1, W2, b2):\n",
    "    Z1 = np.dot(W1, X) + b1\n",
    "    # calculate A1 using ReLU\n",
    "    A1 = np.maximum(0, Z1)\n",
    "    Z2 = np.dot(W2, A1) + b2\n",
    "    # calculate A2 using Softmax\n",
    "    A2 = np.exp(Z2) / np.sum(np.exp(Z2), axis=0)\n",
    "    return A1, A2\n",
    "\n",
    "\n",
    "# one hot function to convert labels to one hot vectors\n",
    "def one_hot(y, n_classes=10):\n",
    "    one_hot = np.zeros((n_classes, y.shape[0]))\n",
    "    for i in range(y.shape[0]):\n",
    "        one_hot[y[i], i] = 1\n",
    "    return one_hot\n",
    "\n",
    "\n",
    "# define a backward propagation function\n",
    "def backward(X, Y, A1, A2, W1, W2):\n",
    "    dZ2 = A2 - one_hot(Y)\n",
    "    dW2 = np.dot(dZ2, A1.T) / X.shape[1]\n",
    "    db2 = np.sum(dZ2, axis=1, keepdims=True) / X.shape[1]\n",
    "    dA1 = np.dot(W2.T, dZ2)\n",
    "    # calculate dZ1 using ReLU derivative\n",
    "    dZ1 = dA1 * (A1 > 0)\n",
    "    dW1 = np.dot(dZ1, X.T) / X.shape[1]\n",
    "    db1 = np.sum(dZ1, axis=1, keepdims=True) / X.shape[1]\n",
    "    return dW1, db1, dW2, db2\n",
    "\n",
    "\n",
    "# update parameters function\n",
    "def update_parameters(W1, b1, W2, b2, dW1, db1, dW2, db2, alpha):\n",
    "    W1 = W1 - alpha * dW1\n",
    "    b1 = b1 - alpha * db1\n",
    "    W2 = W2 - alpha * dW2\n",
    "    b2 = b2 - alpha * db2\n",
    "    return W1, b1, W2, b2\n",
    "\n",
    "\n",
    "# get prediction function\n",
    "def get_prediction(X, W1, b1, W2, b2):\n",
    "    _, A2 = forward(X, W1, b1, W2, b2)\n",
    "    return np.argmax(A2, axis=0)\n",
    "\n",
    "# get accuracy function\n",
    "def get_accuracy(X, Y, W1, b1, W2, b2):\n",
    "    pred = get_prediction(X, W1, b1, W2, b2)\n",
    "    return np.mean(pred == Y)\n",
    "\n",
    "# train function (gradient descent)\n",
    "def train(X, Y, n_iterations=500, alpha=0.1):\n",
    "    W1, b1, W2, b2 = initialize_parameters(n_classes, n_features)\n",
    "    for i in range(n_iterations):\n",
    "        A1, A2 = forward(X, W1, b1, W2, b2)\n",
    "        dW1, db1, dW2, db2 = backward(X, Y, A1, A2, W1, W2)\n",
    "        W1, b1, W2, b2 = update_parameters(W1, b1, W2, b2, dW1, db1, dW2, db2, alpha)\n",
    "        if i % 10 == 0:\n",
    "            print(\"Iteration: \", i)\n",
    "            print(\"Accuracy: \", get_accuracy(X, Y, W1, b1, W2, b2))\n",
    "    return W1, b1, W2, b2"
   ]
  },
  {
   "cell_type": "markdown",
   "metadata": {},
   "source": [
    "# Train"
   ]
  },
  {
   "cell_type": "code",
   "execution_count": 10,
   "metadata": {},
   "outputs": [
    {
     "name": "stdout",
     "output_type": "stream",
     "text": [
      "Iteration:  1490\n",
      "Accuracy:  0.9133630952380952\n"
     ]
    }
   ],
   "source": [
    "W1, b1, W2, b2 = train(train_imgs, train_lables, n_iterations=1500, alpha=0.2)"
   ]
  },
  {
   "cell_type": "markdown",
   "metadata": {},
   "source": [
    "# Test and display!"
   ]
  },
  {
   "cell_type": "code",
   "execution_count": 14,
   "metadata": {},
   "outputs": [
    {
     "name": "stdout",
     "output_type": "stream",
     "text": [
      "Accuracy in test set:  0.9088095238095238\n",
      "Model is very accurate!\n"
     ]
    }
   ],
   "source": [
    "# obtain predictions on the test set\n",
    "pred = get_prediction(test_imgs, W1, b1, W2, b2)\n",
    "# calculate accuracy\n",
    "acc = get_accuracy(test_imgs, test_lables, W1, b1, W2, b2)\n",
    "print(\"Accuracy in test set: \", acc)\n",
    "if acc < 0.8:\n",
    "    print(\"Model generalizes poorly!\")\n",
    "elif 0.9 > acc >= 0.8:\n",
    "    print(\"Model does generalize well!\")\n",
    "else:\n",
    "    print(\"Model is very accurate!\")"
   ]
  },
  {
   "cell_type": "code",
   "execution_count": 16,
   "metadata": {},
   "outputs": [
    {
     "data": {
      "image/png": "[encoded data removed]",
      "text/plain": [
       "<Figure size 720x288 with 5 Axes>"
      ]
     },
     "metadata": {
      "needs_background": "light"
     },
     "output_type": "display_data"
    }
   ],
   "source": [
    "fig, ax = plt.subplots(1, 5, figsize=(10, 4))\n",
    "\n",
    "for i in range(5):\n",
    "    r = np.random.randint(0, len(test_imgs))\n",
    "    ax[i].imshow(test_imgs[:, r].reshape(28, 28), cmap='gray')\n",
    "    ax[i].set_title(\"Predicted: {}\".format(pred[r]))\n",
    "    ax[i].axis('off')"
   ]
  }
 ],
 "metadata": {
  "kernelspec": {
   "display_name": "Python 3.9.9 ('.venv': venv)",
   "language": "python",
   "name": "python3"
  },
  "language_info": {
   "codemirror_mode": {
    "name": "ipython",
    "version": 3
   },
   "file_extension": ".py",
   "mimetype": "text/x-python",
   "name": "python",
   "nbconvert_exporter": "python",
   "pygments_lexer": "ipython3",
   "version": "3.9.9"
  },
  "orig_nbformat": 4,
  "vscode": {
   "interpreter": {
    "hash": "6122458b6ebdaeb06e04e8aa17f2b8e95e321b5775903159a255c98cfe828f5f"
   }
  }
 },
 "nbformat": 4,
 "nbformat_minor": 2
}
